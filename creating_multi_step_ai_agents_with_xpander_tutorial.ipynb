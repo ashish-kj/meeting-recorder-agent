{
 "cells": [
  {
   "cell_type": "code",
   "execution_count": null,
   "metadata": {},
   "outputs": [],
   "source": [
    "%pip install -r requirements.txt"
   ]
  },
  {
   "cell_type": "code",
   "execution_count": 2,
   "metadata": {},
   "outputs": [],
   "source": [
    "# Core dependencies for agent functionality\n",
    "from xpander_sdk import Agent, XpanderClient, LLMProvider, ToolCallResult, Tokens, LLMTokens\n",
    "from openai import OpenAI\n",
    "import os\n",
    "import time\n",
    "from datetime import datetime\n",
    "from dotenv import load_dotenv\n",
    "\n",
    "# PDF generation dependencies\n",
    "from reportlab.lib.pagesizes import A4\n",
    "from reportlab.platypus import SimpleDocTemplate, Table, TableStyle, Paragraph, Spacer\n",
    "from reportlab.lib import colors\n",
    "from reportlab.lib.styles import getSampleStyleSheet, ParagraphStyle\n",
    "from reportlab.lib.enums import TA_LEFT\n",
    "from reportlab.lib.units import cm\n",
    "import tempfile\n",
    "import shutil\n",
    "\n",
    "# Load environment variables and initialize clients\n",
    "load_dotenv()\n",
    "xpander_client = XpanderClient(api_key=os.environ['XPANDER_API_KEY'])\n",
    "openai_client = OpenAI(api_key=os.environ['OPENAI_API_KEY'])"
   ]
  },
  {
   "cell_type": "code",
   "execution_count": 3,
   "metadata": {},
   "outputs": [],
   "source": [
    "def export_meeting_schedule_pdf(meetings: list) -> str:\n",
    "    \"\"\"\n",
    "    Generate a clean, well-formatted PDF agenda for weekly meetings and save it to the user's Downloads folder.\n",
    "    Returns the full path to the saved PDF.\n",
    "    \n",
    "    Args:\n",
    "        meetings (list): List of meeting dictionaries containing:\n",
    "            - title (str): Meeting title\n",
    "            - start_time (str): ISO 8601 formatted start time\n",
    "            - end_time (str): ISO 8601 formatted end time\n",
    "            - location (str, optional): Meeting location\n",
    "            - participants (list, optional): List of participant names/emails\n",
    "    \"\"\"\n",
    "    if not meetings:\n",
    "        return \"No meetings provided.\"\n",
    "\n",
    "    # Sort meetings by start time for chronological order\n",
    "    meetings.sort(key=lambda m: m.get(\"start_time\", \"\"))\n",
    "\n",
    "    # Create temporary PDF file\n",
    "    temp_pdf = tempfile.NamedTemporaryFile(delete=False, suffix=\".pdf\")\n",
    "    doc = SimpleDocTemplate(temp_pdf.name, pagesize=A4)\n",
    "    elements = []\n",
    "\n",
    "    # Add title and styling\n",
    "    styles = getSampleStyleSheet()\n",
    "    title = Paragraph(\"<b>Weekly Meeting Agenda</b>\", styles[\"Title\"])\n",
    "    elements.append(title)\n",
    "    elements.append(Spacer(1, 12))\n",
    "\n",
    "    # Define paragraph style for table cells\n",
    "    cell_style = ParagraphStyle(name='Cell', fontSize=10, leading=12, alignment=TA_LEFT)\n",
    "\n",
    "    # Prepare table data with headers\n",
    "    data = [[\"Date\", \"Time\", \"Title\", \"Location\", \"Participants\"]]\n",
    "\n",
    "    # Process each meeting\n",
    "    for meeting in meetings:\n",
    "        try:\n",
    "            # Format date and time\n",
    "            start_dt = datetime.fromisoformat(meeting[\"start_time\"])\n",
    "            end_dt = datetime.fromisoformat(meeting[\"end_time\"])\n",
    "            date = start_dt.strftime(\"%A, %b %d\")\n",
    "            time = f\"{start_dt.strftime('%H:%M')} - {end_dt.strftime('%H:%M')}\"\n",
    "        except Exception:\n",
    "            date = time = \"Invalid\"\n",
    "\n",
    "        # Format meeting details\n",
    "        title = Paragraph(meeting.get(\"title\", \"Untitled\"), cell_style)\n",
    "        location = Paragraph(meeting.get(\"location\", \"—\"), cell_style)\n",
    "        attendees = meeting.get(\"participants\") or meeting.get(\"attendees\") or []\n",
    "        participants = Paragraph(\", \".join(attendees) if isinstance(attendees, list) else str(attendees), cell_style)\n",
    "\n",
    "        data.append([date, time, title, location, participants])\n",
    "\n",
    "    # Create and style the table\n",
    "    table = Table(data, colWidths=[3.5*cm, 3*cm, 5*cm, 4*cm, 5*cm])\n",
    "    table.setStyle(TableStyle([\n",
    "        # Header styling\n",
    "        ('BACKGROUND', (0, 0), (-1, 0), colors.HexColor(\"#6741d9\")),\n",
    "        ('TEXTCOLOR', (0, 0), (-1, 0), colors.white),\n",
    "        ('FONTNAME', (0, 0), (-1, 0), 'Helvetica-Bold'),\n",
    "        ('ALIGN', (0, 0), (-1, 0), 'CENTER'),\n",
    "        \n",
    "        # Body styling\n",
    "        ('FONTNAME', (0, 1), (-1, -1), 'Helvetica'),\n",
    "        ('FONTSIZE', (0, 1), (-1, -1), 10),\n",
    "        ('VALIGN', (0, 1), (-1, -1), 'TOP'),\n",
    "        ('LEFTPADDING', (0, 1), (-1, -1), 6),\n",
    "        ('RIGHTPADDING', (0, 1), (-1, -1), 6),\n",
    "        ('BOTTOMPADDING', (0, 1), (-1, -1), 6),\n",
    "        ('GRID', (0, 0), (-1, -1), 0.5, colors.grey),\n",
    "        ('ROWBACKGROUNDS', (0, 1), (-1, -1), [colors.whitesmoke, colors.lightgrey])\n",
    "    ]))\n",
    "\n",
    "    elements.append(table)\n",
    "    doc.build(elements)\n",
    "\n",
    "    # Save final PDF to Downloads folder\n",
    "    downloads_path = os.path.join(os.path.expanduser(\"~\"), \"Downloads\")\n",
    "    os.makedirs(downloads_path, exist_ok=True)\n",
    "\n",
    "    filename = f\"weekly_meeting_agenda_{datetime.now().strftime('%Y%m%d_%H%M%S')}.pdf\"\n",
    "    final_path = os.path.join(downloads_path, filename)\n",
    "    shutil.copy(temp_pdf.name, final_path)\n",
    "\n",
    "    return final_path"
   ]
  },
  {
   "cell_type": "code",
   "execution_count": 4,
   "metadata": {},
   "outputs": [],
   "source": [
    "# Define the tool schema\n",
    "local_tools = [{\n",
    "    \"declaration\": {\n",
    "        \"type\": \"function\",\n",
    "        \"function\": {\n",
    "            \"name\": \"export_meeting_schedule_pdf\",\n",
    "            \"description\": \"Generate a weekly meeting agenda as a PDF from a list of meetings.\",\n",
    "            \"parameters\": {\n",
    "                \"type\": \"object\",\n",
    "                \"properties\": {\n",
    "                    \"meetings\": {\n",
    "                        \"type\": \"array\",\n",
    "                        \"description\": \"List of meetings to include in the agenda.\",\n",
    "                        \"items\": {\n",
    "                            \"type\": \"object\",\n",
    "                            \"properties\": {\n",
    "                                \"title\": {\n",
    "                                    \"type\": \"string\",\n",
    "                                    \"description\": \"Title of the meeting\"\n",
    "                                },\n",
    "                                \"start_time\": {\n",
    "                                    \"type\": \"string\",\n",
    "                                    \"description\": \"Start time in ISO 8601 format\"\n",
    "                                },\n",
    "                                \"end_time\": {\n",
    "                                    \"type\": \"string\",\n",
    "                                    \"description\": \"End time in ISO 8601 format\"\n",
    "                                },\n",
    "                                \"location\": {\n",
    "                                    \"type\": \"string\",\n",
    "                                    \"description\": \"Meeting location (optional)\"\n",
    "                                },\n",
    "                                \"participants\": {\n",
    "                                    \"type\": \"array\",\n",
    "                                    \"items\": {\"type\": \"string\"},\n",
    "                                    \"description\": \"List of participant names or emails\"\n",
    "                                }\n",
    "                            },\n",
    "                            \"required\": [\"title\", \"start_time\", \"end_time\"]\n",
    "                        }\n",
    "                    }\n",
    "                },\n",
    "                \"required\": [\"meetings\"]\n",
    "            }\n",
    "        }\n",
    "    },\n",
    "    \"fn\": export_meeting_schedule_pdf\n",
    "}]\n",
    "\n",
    "# Create tool mappings for the agent\n",
    "local_tools_list = [tool['declaration'] for tool in local_tools]\n",
    "local_tools_by_name = {tool['declaration']['function']['name']: tool['fn'] \n",
    "                       for tool in local_tools}"
   ]
  },
  {
   "cell_type": "code",
   "execution_count": 5,
   "metadata": {},
   "outputs": [],
   "source": [
    "# Function to create or load an agent\n",
    "def setup_agent() -> Agent:\n",
    "    \"\"\"load the meeting recording Agent from xpander.ai\"\"\"\n",
    "    agent = xpander_client.agents.get(agent_id=os.environ['XPANDER_AGENT_ID'])\n",
    "    print(f\"🔄 Loaded agent: {agent.name}\")\n",
    "    print(f\"🔍 View this agent in the Xpander platform with ID: https://app.xpander.ai/agents/{agent.id}\")\n",
    "    return agent"
   ]
  },
  {
   "cell_type": "code",
   "execution_count": 6,
   "metadata": {},
   "outputs": [],
   "source": [
    "# Agent execution loop with local tools support\n",
    "def agent_loop(agent: Agent, local_tools_by_name=None):\n",
    "    print(\"🪄 Starting Agent Loop\")\n",
    "    # Initialize token tracking and timing\n",
    "    execution_tokens = Tokens(worker=LLMTokens(completion_tokens=0, prompt_tokens=0, total_tokens=0))\n",
    "    execution_start_time = time.perf_counter()\n",
    "    \n",
    "    while not agent.is_finished():\n",
    "        # Get response from OpenAI\n",
    "        start_time = time.perf_counter()\n",
    "        response = openai_client.chat.completions.create(\n",
    "            model=\"gpt-4o\",\n",
    "            messages=agent.messages,\n",
    "            tools=agent.get_tools(llm_provider=LLMProvider.OPEN_AI),\n",
    "            tool_choice=agent.tool_choice,\n",
    "            temperature=0\n",
    "        )\n",
    "        \n",
    "        # Track token usage\n",
    "        execution_tokens.worker.completion_tokens += response.usage.completion_tokens\n",
    "        execution_tokens.worker.prompt_tokens += response.usage.prompt_tokens\n",
    "        execution_tokens.worker.total_tokens += response.usage.total_tokens\n",
    "        \n",
    "        # Report LLM usage to Xpander\n",
    "        agent.report_llm_usage(\n",
    "            llm_response=response.model_dump(),\n",
    "            llm_inference_duration=time.perf_counter() - start_time,\n",
    "            llm_provider=LLMProvider.OPEN_AI\n",
    "        )\n",
    "        \n",
    "        agent.add_messages(response.model_dump())\n",
    "        \n",
    "        # Handle tool calls\n",
    "        tool_calls = XpanderClient.extract_tool_calls(\n",
    "            llm_response=response.model_dump(),\n",
    "            llm_provider=LLMProvider.OPEN_AI\n",
    "        )\n",
    "        \n",
    "        if tool_calls:\n",
    "            # Display which tools are being used\n",
    "            for call in tool_calls:\n",
    "                name = getattr(call, 'name', None) or getattr(getattr(call, 'function', {}), 'name', \"unnamed\")\n",
    "                print(f\"🔧 Using tool: {name}\")\n",
    "                \n",
    "            # Run cloud tools\n",
    "            agent.run_tools(tool_calls=tool_calls)\n",
    "            \n",
    "            # Run local tools if provided\n",
    "            if local_tools_by_name:\n",
    "                pending_local_tool_execution = XpanderClient.retrieve_pending_local_tool_calls(tool_calls=tool_calls)\n",
    "                local_tools_results = []\n",
    "                \n",
    "                for tc in pending_local_tool_execution:\n",
    "                    print(f\"🛠️ Running local tool: {tc.name}\")\n",
    "                    tool_call_result = ToolCallResult(function_name=tc.name, tool_call_id=tc.tool_call_id, payload=tc.payload)\n",
    "                    try:\n",
    "                        if tc.name in local_tools_by_name:\n",
    "                            tool_call_result.is_success = True\n",
    "                            tool_call_result.result = local_tools_by_name[tc.name](**tc.payload)\n",
    "                        else:\n",
    "                            raise Exception(f\"Local tool {tc.name} not found\")\n",
    "                    except Exception as e:\n",
    "                        tool_call_result.is_success = False\n",
    "                        tool_call_result.is_error = True\n",
    "                        tool_call_result.result = str(e)\n",
    "                    finally:\n",
    "                        local_tools_results.append(tool_call_result)\n",
    "\n",
    "                if local_tools_results:\n",
    "                    print(f\"📝 Registering {len(local_tools_results)} local tool results...\")\n",
    "                    agent.memory.add_tool_call_results(tool_call_results=local_tools_results)\n",
    "    \n",
    "    # Report execution metrics to Xpander\n",
    "    agent.report_execution_metrics(\n",
    "        llm_tokens=execution_tokens,\n",
    "        ai_model=\"gpt-4o\"\n",
    "    )\n",
    "    \n",
    "    print(f\"✨ Execution duration: {time.perf_counter() - execution_start_time:.2f} seconds\")\n",
    "    print(f\"🔢 Total tokens used: {execution_tokens.worker.total_tokens}\")"
   ]
  },
  {
   "cell_type": "code",
   "execution_count": 7,
   "metadata": {},
   "outputs": [],
   "source": [
    "def chat(agent: Agent, message, thread_id=None, local_tools_by_name=None):\n",
    "    \"\"\"Send a message to the agent and get a response\"\"\"\n",
    "    print(f\"\\n👤 User: {message}\")\n",
    "    \n",
    "    # Add task to agent (using thread_id for conversation continuity)\n",
    "    agent.add_task(input=message, thread_id=thread_id)\n",
    "    \n",
    "    # Run the agent loop\n",
    "    agent_loop(agent, local_tools_by_name)\n",
    "    \n",
    "    # Get and return result\n",
    "    result = agent.retrieve_execution_result()\n",
    "    print(f\"🤖 Agent: {result.result}\")\n",
    "    print(f\"🧵 Thread ID: {result.memory_thread_id}\")\n",
    "    return result.memory_thread_id"
   ]
  },
  {
   "cell_type": "code",
   "execution_count": 8,
   "metadata": {},
   "outputs": [
    {
     "name": "stdout",
     "output_type": "stream",
     "text": [
      "🔄 Loaded agent: Meeting Recording Agent\n",
      "🔍 View this agent in the Xpander platform with ID: https://app.xpander.ai/agents/8b5f4852-af17-4369-84bc-486af13cddbe\n",
      "🧰 Local tools added to agent\n",
      "\n",
      "👤 User: Hi! What can you do?\n",
      "🪄 Starting Agent Loop\n",
      "🔧 Using tool: xpfinish-agent-execution-finished\n",
      "✨ Execution duration: 22.10 seconds\n",
      "🔢 Total tokens used: 3098\n",
      "🤖 Agent: Hello! I am a Meeting Automation Agent. I can help you with the following tasks:\n",
      "\n",
      "1. **Record Meetings**: I can join your Google Meet or Zoom meetings using a recorder bot to capture the session.\n",
      "2. **Transcribe Meetings**: After recording, I can transcribe the meeting to extract key topics, decisions, and action items.\n",
      "3. **Summarize Meetings**: I can generate a structured summary of the meeting, highlighting important points and next steps.\n",
      "4. **Send Follow-Up Emails**: I can send a synthesized email to meeting attendees with the summary of the meeting.\n",
      "5. **Manage Calendar Events**: I can retrieve and manage your calendar events to ensure meetings are recorded and summarized efficiently.\n",
      "\n",
      "If you need assistance with any of these tasks, feel free to let me know!\n",
      "🧵 Thread ID: 9aa62ed4-e62d-493d-ad9c-4c8d86dee411\n"
     ]
    }
   ],
   "source": [
    "# initialize the agent\n",
    "agent = setup_agent()      \n",
    "# Add local tools to the agent\n",
    "agent.add_local_tools(local_tools_list)\n",
    "print(\"🧰 Local tools added to agent\")\n",
    "# start the conversation\n",
    "thread_id = chat(agent, 'Hi! What can you do?', local_tools_by_name=local_tools_by_name)\n"
   ]
  },
  {
   "cell_type": "code",
   "execution_count": 14,
   "metadata": {},
   "outputs": [
    {
     "name": "stdout",
     "output_type": "stream",
     "text": [
      "\n",
      "👤 User: List my upcoming meetings on June 26, 2025 and the three consecutive days, for each meeting, include: title, description (if available), location, time, participants\n",
      "🪄 Starting Agent Loop\n",
      "🔧 Using tool: CalendarEventManagementGetCalendarEventsById\n",
      "🔧 Using tool: export_meeting_schedule_pdf\n",
      "🛠️ Running local tool: export_meeting_schedule_pdf\n",
      "📝 Registering 1 local tool results...\n",
      "🔧 Using tool: xpfinish-agent-execution-finished\n",
      "✨ Execution duration: 36.64 seconds\n",
      "🔢 Total tokens used: 13076\n",
      "🤖 Agent: The meeting schedule for June 26, 2025, and the following three days has been successfully exported as a PDF. You can download it from the following link: [Download Meeting Schedule](C:\\Users\\jhaas\\Downloads\\weekly_meeting_agenda_20250627_165434.pdf).\n",
      "🧵 Thread ID: 9aa62ed4-e62d-493d-ad9c-4c8d86dee411\n"
     ]
    },
    {
     "data": {
      "text/plain": [
       "'9aa62ed4-e62d-493d-ad9c-4c8d86dee411'"
      ]
     },
     "execution_count": 14,
     "metadata": {},
     "output_type": "execute_result"
    }
   ],
   "source": [
    "# adding a message to the existing thread and running the agentic loop\n",
    "chat(agent, 'List my upcoming meetings on June 26, 2025 and the three consecutive days, for each meeting, include: title, description (if available), location, time, participants', thread_id, local_tools_by_name=local_tools_by_name)"
   ]
  },
  {
   "cell_type": "code",
   "execution_count": 10,
   "metadata": {},
   "outputs": [
    {
     "name": "stdout",
     "output_type": "stream",
     "text": [
      "\n",
      "👤 User: Create meeting schedule for the upcoming 3 days, and export it as a PDF\n",
      "🪄 Starting Agent Loop\n",
      "🔧 Using tool: CalendarEventManagementGetCalendarEventsById\n",
      "🔧 Using tool: xpfinish-agent-execution-finished\n",
      "✨ Execution duration: 28.63 seconds\n",
      "🔢 Total tokens used: 6487\n",
      "🤖 Agent: It seems there are no upcoming meetings scheduled in your calendar for the next three days. If you have any other requests or need further assistance, feel free to ask!\n",
      "🧵 Thread ID: 9aa62ed4-e62d-493d-ad9c-4c8d86dee411\n"
     ]
    },
    {
     "data": {
      "text/plain": [
       "'9aa62ed4-e62d-493d-ad9c-4c8d86dee411'"
      ]
     },
     "execution_count": 10,
     "metadata": {},
     "output_type": "execute_result"
    }
   ],
   "source": [
    "chat(agent, \"Create meeting schedule for the upcoming 3 days, and export it as a PDF\", thread_id, local_tools_by_name=local_tools_by_name)"
   ]
  },
  {
   "cell_type": "code",
   "execution_count": 11,
   "metadata": {},
   "outputs": [
    {
     "name": "stdout",
     "output_type": "stream",
     "text": [
      "\n",
      "👤 User: Create a recorder for the <MEETING_TITLE>.\n",
      "🪄 Starting Agent Loop\n",
      "🔧 Using tool: xpfinish-agent-execution-finished\n",
      "✨ Execution duration: 11.48 seconds\n",
      "🔢 Total tokens used: 3349\n",
      "🤖 Agent: I couldn't find any upcoming meetings in your calendar for the specified period. Please ensure that the meeting title is correct or provide more details so I can assist you further.\n",
      "🧵 Thread ID: 9aa62ed4-e62d-493d-ad9c-4c8d86dee411\n"
     ]
    },
    {
     "data": {
      "text/plain": [
       "'9aa62ed4-e62d-493d-ad9c-4c8d86dee411'"
      ]
     },
     "execution_count": 11,
     "metadata": {},
     "output_type": "execute_result"
    }
   ],
   "source": [
    "# adding another message to the existing thread and running the agentic loop\n",
    "chat(agent, 'Create a recorder for the <MEETING_TITLE>.', thread_id, local_tools_by_name=local_tools_by_name)"
   ]
  },
  {
   "cell_type": "code",
   "execution_count": 12,
   "metadata": {},
   "outputs": [
    {
     "name": "stdout",
     "output_type": "stream",
     "text": [
      "\n",
      "👤 User: Check the recorder status and give me the asset links if done.\n",
      "🪄 Starting Agent Loop\n",
      "🔧 Using tool: xpfinish-agent-execution-finished\n",
      "✨ Execution duration: 8.69 seconds\n",
      "🔢 Total tokens used: 3377\n",
      "🤖 Agent: I cannot proceed with creating a recorder or checking its status because I don't have the meeting details or the recorder ID. Please provide the meeting title or URL to create a recorder, or the recorder ID to check its status.\n",
      "🧵 Thread ID: 9aa62ed4-e62d-493d-ad9c-4c8d86dee411\n"
     ]
    },
    {
     "data": {
      "text/plain": [
       "'9aa62ed4-e62d-493d-ad9c-4c8d86dee411'"
      ]
     },
     "execution_count": 12,
     "metadata": {},
     "output_type": "execute_result"
    }
   ],
   "source": [
    "chat(agent, 'Check the recorder status and give me the asset links if done.', thread_id, local_tools_by_name=local_tools_by_name)\n"
   ]
  },
  {
   "cell_type": "code",
   "execution_count": 13,
   "metadata": {},
   "outputs": [
    {
     "name": "stdout",
     "output_type": "stream",
     "text": [
      "\n",
      "👤 User: Email the video & transcript to <YOUR_EMAIL> with a summary.\n",
      "🪄 Starting Agent Loop\n",
      "🔧 Using tool: xpfinish-agent-execution-finished\n",
      "✨ Execution duration: 17.18 seconds\n",
      "🔢 Total tokens used: 3403\n",
      "🤖 Agent: I am unable to proceed with the tasks as there are no upcoming meetings found in the calendar for the specified period. Additionally, I cannot create a recorder or check its status without a specific meeting URL or title. Please provide more details or check your calendar settings.\n",
      "🧵 Thread ID: 9aa62ed4-e62d-493d-ad9c-4c8d86dee411\n"
     ]
    },
    {
     "data": {
      "text/plain": [
       "'9aa62ed4-e62d-493d-ad9c-4c8d86dee411'"
      ]
     },
     "execution_count": 13,
     "metadata": {},
     "output_type": "execute_result"
    }
   ],
   "source": [
    "chat(agent, 'Email the video & transcript to <YOUR_EMAIL> with a summary.', thread_id, local_tools_by_name=local_tools_by_name)"
   ]
  }
 ],
 "metadata": {
  "kernelspec": {
   "display_name": "venv",
   "language": "python",
   "name": "python3"
  },
  "language_info": {
   "codemirror_mode": {
    "name": "ipython",
    "version": 3
   },
   "file_extension": ".py",
   "mimetype": "text/x-python",
   "name": "python",
   "nbconvert_exporter": "python",
   "pygments_lexer": "ipython3",
   "version": "3.13.2"
  }
 },
 "nbformat": 4,
 "nbformat_minor": 2
}
